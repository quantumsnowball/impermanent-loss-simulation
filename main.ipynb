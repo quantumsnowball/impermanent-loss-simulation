{
 "cells": [
  {
   "cell_type": "markdown",
   "metadata": {},
   "source": [
    "# Impermanent Loss Simulation"
   ]
  },
  {
   "cell_type": "code",
   "execution_count": 55,
   "metadata": {},
   "outputs": [],
   "source": [
    "import math\n",
    "import numpy as np\n",
    "import matplotlib.pyplot as plt\n",
    "from matplotlib import colors"
   ]
  },
  {
   "cell_type": "markdown",
   "metadata": {},
   "source": [
    "## Formula\n",
    "\n",
    "The following formula gives the impermanent loss of coin x relative to coin y.\n",
    "\n",
    "It is compared to holding coin x and coin y outside the pool.\n",
    "\n",
    "The prices are quoted in terms of coin y, which is usually a stable coin."
   ]
  },
  {
   "cell_type": "code",
   "execution_count": 39,
   "metadata": {},
   "outputs": [],
   "source": [
    "def impermanent_loss(k):\n",
    "    \"\"\"\n",
    "    In a x-y liquidity pool, k is the price factor of coin x relative to y\n",
    "    i.e. future price of x = x * k\n",
    "    \"\"\"\n",
    "    return (2 * np.sqrt(k)) / (1 + k) - 1\n"
   ]
  },
  {
   "cell_type": "code",
   "execution_count": 40,
   "metadata": {},
   "outputs": [
    {
     "name": "stdout",
     "output_type": "stream",
     "text": [
      "When coin x do a 1x, the impermanent loss is about 0.00%\n",
      "When coin x do a 1.5x, the impermanent loss is about -2.02%\n",
      "When coin x do a 2x, the impermanent loss is about -5.72%\n",
      "When coin x do a 4x, the impermanent loss is about -20.00%\n",
      "When coin x do a 10x, the impermanent loss is about -42.50%\n",
      "When coin x do a 20x, the impermanent loss is about -57.41%\n"
     ]
    }
   ],
   "source": [
    "for x in (1, 1.5, 2, 4, 10, 20):\n",
    "    print((f'When coin x do a {x}x, the impermanent loss '\n",
    "           f'is about {impermanent_loss(x):.2%}'))\n"
   ]
  },
  {
   "cell_type": "code",
   "execution_count": 41,
   "metadata": {},
   "outputs": [
    {
     "name": "stdout",
     "output_type": "stream",
     "text": [
      "When coin x do a 1.00x, the impermanent loss is about 0.00%\n",
      "When coin x do a 0.67x, the impermanent loss is about -2.02%\n",
      "When coin x do a 0.50x, the impermanent loss is about -5.72%\n",
      "When coin x do a 0.25x, the impermanent loss is about -20.00%\n",
      "When coin x do a 0.10x, the impermanent loss is about -42.50%\n",
      "When coin x do a 0.05x, the impermanent loss is about -57.41%\n"
     ]
    }
   ],
   "source": [
    "for x in (1, 1/1.5, 1/2, 1/4, 1/10, 1/20):\n",
    "    print((f'When coin x do a {x:4.2f}x, the impermanent loss '\n",
    "           f'is about {impermanent_loss(x):.2%}'))\n"
   ]
  },
  {
   "cell_type": "markdown",
   "metadata": {},
   "source": [
    "The above situation is relative to a base case, where you simply hold coin x and coin y with the same value without join the liquidity pool. In a case coin x do a 10x and coin y is a stable coin, only half of the portfolio is having a 10x gain."
   ]
  },
  {
   "cell_type": "markdown",
   "metadata": {},
   "source": [
    "## Portfolio Impact"
   ]
  },
  {
   "cell_type": "code",
   "execution_count": 42,
   "metadata": {},
   "outputs": [],
   "source": [
    "def portfolio(lp_apy, k, y_chg=.0):\n",
    "    imp_loss = impermanent_loss(k)\n",
    "    pf_val1_hodl_in_y = (1+k)/2\n",
    "    pf_val1_hodl = pf_val1_hodl_in_y * (1 + y_chg)\n",
    "    pf_val1_lp_in_y = pf_val1_hodl_in_y * (1 + imp_loss) * (1 + lp_apy)\n",
    "    pf_val1_lp = pf_val1_lp_in_y * (1 + y_chg)\n",
    "\n",
    "    return {\n",
    "        'pf_val1_hodl': pf_val1_hodl,\n",
    "        'pf_val1_lp': pf_val1_lp,\n",
    "        'pf_val1_in_y': pf_val1_lp_in_y,\n",
    "        'imp_loss': imp_loss,\n",
    "    }\n"
   ]
  },
  {
   "cell_type": "code",
   "execution_count": 43,
   "metadata": {},
   "outputs": [
    {
     "data": {
      "text/plain": [
       "{'pf_val1_hodl': 5.5,\n",
       " 'pf_val1_lp': 5.059644256269408,\n",
       " 'pf_val1_in_y': 5.059644256269408,\n",
       " 'imp_loss': -0.42504042542393095}"
      ]
     },
     "execution_count": 43,
     "metadata": {},
     "output_type": "execute_result"
    }
   ],
   "source": [
    "portfolio(0.6, 10, 0.0)"
   ]
  },
  {
   "cell_type": "code",
   "execution_count": 44,
   "metadata": {},
   "outputs": [
    {
     "name": "stdout",
     "output_type": "stream",
     "text": [
      "If coin x  1.0x relative to coin y, hodl return is   0%, LP return is   0% given   0% reward apy.\n",
      "If coin x  2.0x relative to coin y, hodl return is  50%, LP return is  41% given   0% reward apy.\n",
      "If coin x  5.0x relative to coin y, hodl return is 200%, LP return is 124% given   0% reward apy.\n",
      "If coin x 10.0x relative to coin y, hodl return is 450%, LP return is 216% given   0% reward apy.\n",
      "If coin x  1.0x relative to coin y, hodl return is   0%, LP return is  10% given  10% reward apy.\n",
      "If coin x  2.0x relative to coin y, hodl return is  50%, LP return is  56% given  10% reward apy.\n",
      "If coin x  5.0x relative to coin y, hodl return is 200%, LP return is 146% given  10% reward apy.\n",
      "If coin x 10.0x relative to coin y, hodl return is 450%, LP return is 248% given  10% reward apy.\n",
      "If coin x  1.0x relative to coin y, hodl return is   0%, LP return is  20% given  20% reward apy.\n",
      "If coin x  2.0x relative to coin y, hodl return is  50%, LP return is  70% given  20% reward apy.\n",
      "If coin x  5.0x relative to coin y, hodl return is 200%, LP return is 168% given  20% reward apy.\n",
      "If coin x 10.0x relative to coin y, hodl return is 450%, LP return is 279% given  20% reward apy.\n",
      "If coin x  1.0x relative to coin y, hodl return is   0%, LP return is  50% given  50% reward apy.\n",
      "If coin x  2.0x relative to coin y, hodl return is  50%, LP return is 112% given  50% reward apy.\n",
      "If coin x  5.0x relative to coin y, hodl return is 200%, LP return is 235% given  50% reward apy.\n",
      "If coin x 10.0x relative to coin y, hodl return is 450%, LP return is 374% given  50% reward apy.\n",
      "If coin x  1.0x relative to coin y, hodl return is   0%, LP return is  80% given  80% reward apy.\n",
      "If coin x  2.0x relative to coin y, hodl return is  50%, LP return is 155% given  80% reward apy.\n",
      "If coin x  5.0x relative to coin y, hodl return is 200%, LP return is 302% given  80% reward apy.\n",
      "If coin x 10.0x relative to coin y, hodl return is 450%, LP return is 469% given  80% reward apy.\n",
      "If coin x  1.0x relative to coin y, hodl return is   0%, LP return is 150% given 150% reward apy.\n",
      "If coin x  2.0x relative to coin y, hodl return is  50%, LP return is 254% given 150% reward apy.\n",
      "If coin x  5.0x relative to coin y, hodl return is 200%, LP return is 459% given 150% reward apy.\n",
      "If coin x 10.0x relative to coin y, hodl return is 450%, LP return is 691% given 150% reward apy.\n",
      "If coin x  1.0x relative to coin y, hodl return is   0%, LP return is 300% given 300% reward apy.\n",
      "If coin x  2.0x relative to coin y, hodl return is  50%, LP return is 466% given 300% reward apy.\n",
      "If coin x  5.0x relative to coin y, hodl return is 200%, LP return is 794% given 300% reward apy.\n",
      "If coin x 10.0x relative to coin y, hodl return is 450%, LP return is 1165% given 300% reward apy.\n"
     ]
    }
   ],
   "source": [
    "for apy in (0, .1, .2, .5, .8, 1.5, 3.0):\n",
    "    for k in (1, 2, 5, 10):\n",
    "        hodl, pf_val1, _, il = portfolio(apy, k, 0).values()\n",
    "        print((f'If coin x {k:4.1f}x relative to coin y, '\n",
    "               f'hodl return is {hodl-1:4.0%}, '\n",
    "               f'LP return is {pf_val1-1:4.0%} given {apy:4.0%} reward apy.'))"
   ]
  },
  {
   "cell_type": "code",
   "execution_count": 45,
   "metadata": {},
   "outputs": [],
   "source": [
    "apy, k = np.meshgrid(\n",
    "    np.linspace(0, +3 , 30),\n",
    "    np.linspace(0, +10, 30)\n",
    ")\n"
   ]
  },
  {
   "cell_type": "code",
   "execution_count": 46,
   "metadata": {},
   "outputs": [],
   "source": [
    "hodl_return = lambda *args, **kwargs: portfolio(*args, **kwargs)['pf_val1_hodl']\n",
    "lp_return = lambda *args, **kwargs: portfolio(*args, **kwargs)['pf_val1_lp']\n",
    "net_return = lambda *args, **kwargs: lp_return(*args, **kwargs) - hodl_return(*args, **kwargs)"
   ]
  },
  {
   "cell_type": "code",
   "execution_count": 47,
   "metadata": {},
   "outputs": [],
   "source": [
    "Z_lp_return = lp_return(apy, k)\n",
    "Z_hodl_return = hodl_return(apy, k)\n",
    "Z_net_return = net_return(apy, k)\n"
   ]
  },
  {
   "cell_type": "code",
   "execution_count": 48,
   "metadata": {},
   "outputs": [
    {
     "data": {
      "application/vnd.jupyter.widget-view+json": {
       "model_id": "5ecccfda7ba24522970a52db966881b2",
       "version_major": 2,
       "version_minor": 0
      },
      "text/plain": [
       "Canvas(toolbar=Toolbar(toolitems=[('Home', 'Reset original view', 'home', 'home'), ('Back', 'Back to previous …"
      ]
     },
     "metadata": {},
     "output_type": "display_data"
    }
   ],
   "source": [
    "%matplotlib widget\n",
    "fig = plt.figure(figsize=(8,8))\n",
    "ax = plt.axes(projection='3d')\n",
    "#ax.plot_wireframe(apy, k, Z_hodl_return, color='black')\n",
    "#ax.plot_surface(apy, k, Z_lp_return, cmap='viridis')\n",
    "ax.plot_surface(apy, k, Z_net_return, cmap='viridis')\n",
    "ax.set_xlabel('APY')\n",
    "ax.set_ylabel('k')\n",
    "ax.set_zlabel('Net Return')\n",
    "ax.set_zlim3d(0)\n",
    "ax.view_init(20, 200)"
   ]
  },
  {
   "cell_type": "code",
   "execution_count": 49,
   "metadata": {},
   "outputs": [
    {
     "data": {
      "application/vnd.jupyter.widget-view+json": {
       "model_id": "2b13cd28590d429eb143c6f2c6a5cf4d",
       "version_major": 2,
       "version_minor": 0
      },
      "text/plain": [
       "Canvas(toolbar=Toolbar(toolitems=[('Home', 'Reset original view', 'home', 'home'), ('Back', 'Back to previous …"
      ]
     },
     "metadata": {},
     "output_type": "display_data"
    },
    {
     "data": {
      "text/plain": [
       "<matplotlib.colorbar.Colorbar at 0x7f1e716a9bb0>"
      ]
     },
     "execution_count": 49,
     "metadata": {},
     "output_type": "execute_result"
    }
   ],
   "source": [
    "fig, ax = plt.subplots()\n",
    "im = ax.imshow(Z_net_return, \n",
    "               extent=(0, 3, 5, 0), \n",
    "               cmap=plt.cm.RdBu, \n",
    "               norm=colors.TwoSlopeNorm(0, -2, +6), \n",
    "               interpolation='bilinear')\n",
    "ax.set_xlabel('APY')\n",
    "ax.set_ylabel('k')\n",
    "plt.colorbar(im)\n"
   ]
  },
  {
   "cell_type": "code",
   "execution_count": 59,
   "metadata": {},
   "outputs": [],
   "source": [
    "apy, k = np.meshgrid(\n",
    "    np.linspace(-1.1, +1.1, 30),\n",
    "    np.linspace(-2.3, +2.3, 30)\n",
    ")"
   ]
  },
  {
   "cell_type": "code",
   "execution_count": null,
   "metadata": {},
   "outputs": [],
   "source": [
    "hodl_return = lambda *args, **kwargs: portfolio(*map(np.log, args), **kwargs)['pf_val1_hodl']\n",
    "lp_return = lambda *args, **kwargs: portfolio(*args, **kwargs)['pf_val1_lp']\n",
    "net_return = lambda *args, **kwargs: lp_return(*args, **kwargs) - hodl_return(*args, **kwargs)\n"
   ]
  },
  {
   "cell_type": "code",
   "execution_count": 60,
   "metadata": {},
   "outputs": [
    {
     "name": "stderr",
     "output_type": "stream",
     "text": [
      "/tmp/ipykernel_4253/2421920035.py:6: RuntimeWarning: invalid value encountered in sqrt\n",
      "  return (2 * np.sqrt(k)) / (1 + k) - 1\n"
     ]
    }
   ],
   "source": [
    "Z_lp_return = lp_return(apy, k)\n",
    "Z_hodl_return = hodl_return(apy, k)\n",
    "Z_net_return = net_return(apy, k)\n"
   ]
  },
  {
   "cell_type": "code",
   "execution_count": 63,
   "metadata": {},
   "outputs": [
    {
     "data": {
      "application/vnd.jupyter.widget-view+json": {
       "model_id": "a45c7b799f534b7abe4ae1e7bb760670",
       "version_major": 2,
       "version_minor": 0
      },
      "text/plain": [
       "Canvas(toolbar=Toolbar(toolitems=[('Home', 'Reset original view', 'home', 'home'), ('Back', 'Back to previous …"
      ]
     },
     "metadata": {},
     "output_type": "display_data"
    },
    {
     "data": {
      "text/plain": [
       "<matplotlib.colorbar.Colorbar at 0x7f1e71308c40>"
      ]
     },
     "execution_count": 63,
     "metadata": {},
     "output_type": "execute_result"
    }
   ],
   "source": [
    "fig, ax = plt.subplots()\n",
    "im = ax.imshow(Z_net_return, \n",
    "               extent=(-3, +3, +5, -5), \n",
    "               cmap=plt.cm.RdBu, \n",
    "               norm=colors.TwoSlopeNorm(0, -6, +6), \n",
    "               interpolation='bilinear')\n",
    "ax.set_xlabel('APY')\n",
    "ax.set_ylabel('k')\n",
    "plt.colorbar(im)\n"
   ]
  },
  {
   "cell_type": "code",
   "execution_count": null,
   "metadata": {},
   "outputs": [],
   "source": []
  }
 ],
 "metadata": {
  "interpreter": {
   "hash": "32a1fa3ffcedb1b300e63d7c242193a49fbd99668300edeb9b473f8f6f7a6779"
  },
  "kernelspec": {
   "display_name": "Python 3.9.7 64-bit ('python39': conda)",
   "name": "python3"
  },
  "language_info": {
   "codemirror_mode": {
    "name": "ipython",
    "version": 3
   },
   "file_extension": ".py",
   "mimetype": "text/x-python",
   "name": "python",
   "nbconvert_exporter": "python",
   "pygments_lexer": "ipython3",
   "version": "3.9.7"
  },
  "orig_nbformat": 4
 },
 "nbformat": 4,
 "nbformat_minor": 2
}
